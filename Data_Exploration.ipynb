{
 "cells": [
  {
   "cell_type": "markdown",
   "id": "subtle-marriage",
   "metadata": {},
   "source": [
    "# Exploración de los datos\n",
    "---\n",
    "**Autor:** José Fernando Pérez Pérez  \n",
    "**Fecha:** 24-01-2021"
   ]
  },
  {
   "attachments": {},
   "cell_type": "markdown",
   "id": "pharmaceutical-harris",
   "metadata": {},
   "source": [
    "### Descripción del conjunto de datos\n",
    "La tabla contiene información de los gastos de cada cliente, separados por categorías de gasto) para compras con tarjeta débito y crédito durante el último año.  Un cliente puede estar registrado en varios registros si tiene varias categorías.\n",
    "\n",
    "| Campo           | Tipo    | Descripción                                                                   |\n",
    "|-----------------|---------|-------------------------------------------------------------------------------|\n",
    "| documento       | bigint  | número de documento (hash) del cliente.                                       |\n",
    "| tipo_doc        | tinyint | Tipo de documento del cliente.  1 para cédula y 2 para cedula de extranjería. |\n",
    "| categoria       | String  | Categoría de gastos del cliente                                               |\n",
    "| mnt_trx_mm      | double  | Monto (en millones) del gasto del cliente                                     |\n",
    "| num_trx         | int     | Número de transacciones en la categoría                                       |\n",
    "| pct_mnt_tot     | double  | Porcentaje del monto sobre el resto de categorías del cliente para el cliente |\n",
    "| pct_num_trx_tot | double  | Porcentaje de las transacciones sobre el resto de categorías para el cliente  |"
   ]
  },
  {
   "cell_type": "markdown",
   "id": "respective-compensation",
   "metadata": {},
   "source": [
    "### Carga de datos desde MongoDB"
   ]
  },
  {
   "cell_type": "code",
   "execution_count": 45,
   "id": "stainless-transition",
   "metadata": {},
   "outputs": [],
   "source": [
    "import pandas as pd\n",
    "from pymongo import MongoClient\n",
    "import matplotlib.pyplot as plt\n",
    "\n",
    "myclient = MongoClient('localhost', 27017)\n",
    "mydb = myclient.test\n",
    "mycol = mydb.test_bam\n",
    "data = pd.DataFrame(list(mycol.find()))"
   ]
  },
  {
   "cell_type": "code",
   "execution_count": 8,
   "id": "middle-scheduling",
   "metadata": {},
   "outputs": [],
   "source": [
    "data = data.drop('_id', axis=1)"
   ]
  },
  {
   "cell_type": "code",
   "execution_count": 10,
   "id": "technical-baptist",
   "metadata": {},
   "outputs": [
    {
     "data": {
      "text/html": [
       "<div>\n",
       "<style scoped>\n",
       "    .dataframe tbody tr th:only-of-type {\n",
       "        vertical-align: middle;\n",
       "    }\n",
       "\n",
       "    .dataframe tbody tr th {\n",
       "        vertical-align: top;\n",
       "    }\n",
       "\n",
       "    .dataframe thead th {\n",
       "        text-align: right;\n",
       "    }\n",
       "</style>\n",
       "<table border=\"1\" class=\"dataframe\">\n",
       "  <thead>\n",
       "    <tr style=\"text-align: right;\">\n",
       "      <th></th>\n",
       "      <th>documento</th>\n",
       "      <th>tipo_doc</th>\n",
       "      <th>categoria</th>\n",
       "      <th>mnt_trx_mm</th>\n",
       "      <th>num_trx</th>\n",
       "      <th>pct_mnt_tot</th>\n",
       "      <th>pct_num_trx_tot</th>\n",
       "    </tr>\n",
       "  </thead>\n",
       "  <tbody>\n",
       "    <tr>\n",
       "      <th>0</th>\n",
       "      <td>-9222147298886477023</td>\n",
       "      <td>1</td>\n",
       "      <td>COMIDA</td>\n",
       "      <td>0.05</td>\n",
       "      <td>7</td>\n",
       "      <td>1.000000</td>\n",
       "      <td>1.000</td>\n",
       "    </tr>\n",
       "    <tr>\n",
       "      <th>1</th>\n",
       "      <td>-9221406660220722252</td>\n",
       "      <td>1</td>\n",
       "      <td>COMIDA</td>\n",
       "      <td>0.25</td>\n",
       "      <td>2</td>\n",
       "      <td>0.050916</td>\n",
       "      <td>0.125</td>\n",
       "    </tr>\n",
       "    <tr>\n",
       "      <th>2</th>\n",
       "      <td>-9221406660220722252</td>\n",
       "      <td>1</td>\n",
       "      <td>OTROS</td>\n",
       "      <td>3.24</td>\n",
       "      <td>4</td>\n",
       "      <td>0.659878</td>\n",
       "      <td>0.250</td>\n",
       "    </tr>\n",
       "    <tr>\n",
       "      <th>3</th>\n",
       "      <td>-9221406660220722252</td>\n",
       "      <td>1</td>\n",
       "      <td>TRANSPORTE</td>\n",
       "      <td>0.34</td>\n",
       "      <td>4</td>\n",
       "      <td>0.069246</td>\n",
       "      <td>0.250</td>\n",
       "    </tr>\n",
       "    <tr>\n",
       "      <th>4</th>\n",
       "      <td>-9221406660220722252</td>\n",
       "      <td>1</td>\n",
       "      <td>HOGAR</td>\n",
       "      <td>1.08</td>\n",
       "      <td>6</td>\n",
       "      <td>0.219959</td>\n",
       "      <td>0.375</td>\n",
       "    </tr>\n",
       "  </tbody>\n",
       "</table>\n",
       "</div>"
      ],
      "text/plain": [
       "             documento  tipo_doc   categoria  mnt_trx_mm  num_trx  \\\n",
       "0 -9222147298886477023         1      COMIDA        0.05        7   \n",
       "1 -9221406660220722252         1      COMIDA        0.25        2   \n",
       "2 -9221406660220722252         1       OTROS        3.24        4   \n",
       "3 -9221406660220722252         1  TRANSPORTE        0.34        4   \n",
       "4 -9221406660220722252         1       HOGAR        1.08        6   \n",
       "\n",
       "   pct_mnt_tot  pct_num_trx_tot  \n",
       "0     1.000000            1.000  \n",
       "1     0.050916            0.125  \n",
       "2     0.659878            0.250  \n",
       "3     0.069246            0.250  \n",
       "4     0.219959            0.375  "
      ]
     },
     "execution_count": 10,
     "metadata": {},
     "output_type": "execute_result"
    }
   ],
   "source": [
    "data.head()"
   ]
  },
  {
   "cell_type": "markdown",
   "id": "quarterly-jonathan",
   "metadata": {},
   "source": [
    "Generamos una breve descripción de las columnas con datos númericos."
   ]
  },
  {
   "cell_type": "code",
   "execution_count": 11,
   "id": "vanilla-night",
   "metadata": {},
   "outputs": [
    {
     "data": {
      "text/html": [
       "<div>\n",
       "<style scoped>\n",
       "    .dataframe tbody tr th:only-of-type {\n",
       "        vertical-align: middle;\n",
       "    }\n",
       "\n",
       "    .dataframe tbody tr th {\n",
       "        vertical-align: top;\n",
       "    }\n",
       "\n",
       "    .dataframe thead th {\n",
       "        text-align: right;\n",
       "    }\n",
       "</style>\n",
       "<table border=\"1\" class=\"dataframe\">\n",
       "  <thead>\n",
       "    <tr style=\"text-align: right;\">\n",
       "      <th></th>\n",
       "      <th>documento</th>\n",
       "      <th>tipo_doc</th>\n",
       "      <th>mnt_trx_mm</th>\n",
       "      <th>num_trx</th>\n",
       "      <th>pct_mnt_tot</th>\n",
       "      <th>pct_num_trx_tot</th>\n",
       "    </tr>\n",
       "  </thead>\n",
       "  <tbody>\n",
       "    <tr>\n",
       "      <th>count</th>\n",
       "      <td>1.500000e+05</td>\n",
       "      <td>150000.000000</td>\n",
       "      <td>150000.000000</td>\n",
       "      <td>150000.000000</td>\n",
       "      <td>150000.000000</td>\n",
       "      <td>150000.000000</td>\n",
       "    </tr>\n",
       "    <tr>\n",
       "      <th>mean</th>\n",
       "      <td>1.344256e+16</td>\n",
       "      <td>1.170667</td>\n",
       "      <td>24.967153</td>\n",
       "      <td>12.742507</td>\n",
       "      <td>0.266855</td>\n",
       "      <td>0.272582</td>\n",
       "    </tr>\n",
       "    <tr>\n",
       "      <th>std</th>\n",
       "      <td>5.318371e+18</td>\n",
       "      <td>0.376219</td>\n",
       "      <td>612.668753</td>\n",
       "      <td>24.462331</td>\n",
       "      <td>0.318097</td>\n",
       "      <td>0.301731</td>\n",
       "    </tr>\n",
       "    <tr>\n",
       "      <th>min</th>\n",
       "      <td>-9.222147e+18</td>\n",
       "      <td>1.000000</td>\n",
       "      <td>0.000000</td>\n",
       "      <td>1.000000</td>\n",
       "      <td>0.000000</td>\n",
       "      <td>0.000665</td>\n",
       "    </tr>\n",
       "    <tr>\n",
       "      <th>25%</th>\n",
       "      <td>-4.598571e+18</td>\n",
       "      <td>1.000000</td>\n",
       "      <td>0.150000</td>\n",
       "      <td>2.000000</td>\n",
       "      <td>0.030929</td>\n",
       "      <td>0.048193</td>\n",
       "    </tr>\n",
       "    <tr>\n",
       "      <th>50%</th>\n",
       "      <td>3.726371e+15</td>\n",
       "      <td>1.000000</td>\n",
       "      <td>0.510000</td>\n",
       "      <td>4.000000</td>\n",
       "      <td>0.119709</td>\n",
       "      <td>0.142857</td>\n",
       "    </tr>\n",
       "    <tr>\n",
       "      <th>75%</th>\n",
       "      <td>4.631182e+18</td>\n",
       "      <td>1.000000</td>\n",
       "      <td>1.744728</td>\n",
       "      <td>13.000000</td>\n",
       "      <td>0.392045</td>\n",
       "      <td>0.400000</td>\n",
       "    </tr>\n",
       "    <tr>\n",
       "      <th>max</th>\n",
       "      <td>9.223185e+18</td>\n",
       "      <td>2.000000</td>\n",
       "      <td>72623.371734</td>\n",
       "      <td>806.000000</td>\n",
       "      <td>1.000000</td>\n",
       "      <td>1.000000</td>\n",
       "    </tr>\n",
       "  </tbody>\n",
       "</table>\n",
       "</div>"
      ],
      "text/plain": [
       "          documento       tipo_doc     mnt_trx_mm        num_trx  \\\n",
       "count  1.500000e+05  150000.000000  150000.000000  150000.000000   \n",
       "mean   1.344256e+16       1.170667      24.967153      12.742507   \n",
       "std    5.318371e+18       0.376219     612.668753      24.462331   \n",
       "min   -9.222147e+18       1.000000       0.000000       1.000000   \n",
       "25%   -4.598571e+18       1.000000       0.150000       2.000000   \n",
       "50%    3.726371e+15       1.000000       0.510000       4.000000   \n",
       "75%    4.631182e+18       1.000000       1.744728      13.000000   \n",
       "max    9.223185e+18       2.000000   72623.371734     806.000000   \n",
       "\n",
       "         pct_mnt_tot  pct_num_trx_tot  \n",
       "count  150000.000000    150000.000000  \n",
       "mean        0.266855         0.272582  \n",
       "std         0.318097         0.301731  \n",
       "min         0.000000         0.000665  \n",
       "25%         0.030929         0.048193  \n",
       "50%         0.119709         0.142857  \n",
       "75%         0.392045         0.400000  \n",
       "max         1.000000         1.000000  "
      ]
     },
     "execution_count": 11,
     "metadata": {},
     "output_type": "execute_result"
    }
   ],
   "source": [
    "data.describe()"
   ]
  },
  {
   "cell_type": "markdown",
   "id": "color-passenger",
   "metadata": {},
   "source": [
    "No se cuentan con datos vacíos dentro del dataset."
   ]
  },
  {
   "cell_type": "code",
   "execution_count": 12,
   "id": "shared-potential",
   "metadata": {},
   "outputs": [
    {
     "data": {
      "text/plain": [
       "documento          0\n",
       "tipo_doc           0\n",
       "categoria          0\n",
       "mnt_trx_mm         0\n",
       "num_trx            0\n",
       "pct_mnt_tot        0\n",
       "pct_num_trx_tot    0\n",
       "dtype: int64"
      ]
     },
     "execution_count": 12,
     "metadata": {},
     "output_type": "execute_result"
    }
   ],
   "source": [
    "# Buscamos cantidad de campos vacíos por columnas\n",
    "data.isnull().sum(axis = 0)"
   ]
  },
  {
   "cell_type": "markdown",
   "id": "reasonable-strength",
   "metadata": {},
   "source": [
    "#### Distribución de gastos y transacciones\n",
    "Es interesante que los gastos de clientes y número de transacciones con mayor utilización se encuentra etiquetada como otros, podría ser un indicio para lograr obtener mas información de las transacciones y poder categorizar de una mejor forma para poder describir mejor los datos."
   ]
  },
  {
   "cell_type": "code",
   "execution_count": 50,
   "id": "grateful-former",
   "metadata": {},
   "outputs": [
    {
     "data": {
      "image/png": "[encoded data removed]",
      "text/plain": [
       "<Figure size 432x288 with 1 Axes>"
      ]
     },
     "metadata": {
      "needs_background": "light"
     },
     "output_type": "display_data"
    }
   ],
   "source": [
    "data.groupby('categoria')[['mnt_trx_mm', 'num_trx']].sum().plot.bar()\n",
    "plt.show()"
   ]
  },
  {
   "cell_type": "markdown",
   "id": "killing-explosion",
   "metadata": {},
   "source": [
    "#### Tipos de documentos utilizados por los clientes\n",
    "Se puede concluir que la gran mayoría de usuarios utilizan su cédula para realizar transacciones."
   ]
  },
  {
   "cell_type": "code",
   "execution_count": 52,
   "id": "golden-survival",
   "metadata": {},
   "outputs": [
    {
     "data": {
      "image/png": "[encoded data removed]",
      "text/plain": [
       "<Figure size 432x288 with 1 Axes>"
      ]
     },
     "metadata": {
      "needs_background": "light"
     },
     "output_type": "display_data"
    }
   ],
   "source": [
    "data['tipo_doc'].value_counts().plot.bar()\n",
    "plt.show()"
   ]
  }
 ],
 "metadata": {
  "kernelspec": {
   "display_name": "Python 3",
   "language": "python",
   "name": "python3"
  },
  "language_info": {
   "codemirror_mode": {
    "name": "ipython",
    "version": 3
   },
   "file_extension": ".py",
   "mimetype": "text/x-python",
   "name": "python",
   "nbconvert_exporter": "python",
   "pygments_lexer": "ipython3",
   "version": "3.9.1"
  }
 },
 "nbformat": 4,
 "nbformat_minor": 5
}
